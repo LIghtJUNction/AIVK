{
 "cells": [
  {
   "cell_type": "markdown",
   "id": "9f8906f4",
   "metadata": {},
   "source": [
    "# AivkConfig 类用法演示\n",
    "\n",
    "本笔记本将系统演示 `AivkConfig` 配置基类的典型用法，包括：加载、保存、热重载、回调注册、同步/异步上下文管理等。适合用于开发自定义配置类和理解其高级特性。"
   ]
  },
  {
   "cell_type": "markdown",
   "id": "ea4a7186",
   "metadata": {},
   "source": [
    "## 1. 导入依赖库\n",
    "\n",
    "首先导入AivkConfig及其依赖的所有库，包括pydantic、watchdog、threading等。"
   ]
  },
  {
   "cell_type": "code",
   "execution_count": null,
   "id": "71d6e521",
   "metadata": {},
   "outputs": [],
   "source": [
    "from aivk.api import AivkConfig\n",
    "from logging import getLogger\n",
    "# 日志初始化\n",
    "logger = getLogger(\"aivk.config\")"
   ]
  },
  {
   "cell_type": "markdown",
   "id": "8c60a050",
   "metadata": {},
   "source": [
    "## 2. 定义AivkConfig类\n",
    "\n",
    "略"
   ]
  },
  {
   "cell_type": "markdown",
   "id": "14e39bb1",
   "metadata": {},
   "source": [
    "## 3. 加载配置文件示例\n",
    "\n",
    "演示如何通过 `AivkConfig.load(fs, file_name)` 从JSON文件加载配置。"
   ]
  },
  {
   "cell_type": "code",
   "execution_count": null,
   "id": "c8425aba",
   "metadata": {},
   "outputs": [],
   "source": [
    "from pathlib import Path\n",
    "import json\n",
    "\n",
    "# 假设有一个fs对象，模拟etc目录\n",
    "class FakeFS:\n",
    "    def __init__(self, etc_path):\n",
    "        self.etc = Path(etc_path)\n",
    "\n",
    "# 实际上是：AivkFS\n",
    "# fs = AivkFS.getFS() 参数id可选 \"aivk\"（默认）表示使用系统配置目录\n",
    "\n",
    "# 自定义配置类\n",
    "class MyConfig(AivkConfig):\n",
    "    username: str = \"default\"\n",
    "    age: int = 0\n",
    "\n",
    "# 创建模拟fs和配置文件路径\n",
    "test_etc = Path(\"./test_etc\")\n",
    "test_etc.mkdir(exist_ok=True)\n",
    "fs = FakeFS(test_etc)\n",
    "file_name = \"my_config.json\"\n",
    "\n",
    "# 写入一个初始配置文件\n",
    "default_data = {\"username\": \"alice\", \"age\": 18}\n",
    "with (test_etc / file_name).open(\"w\", encoding=\"utf-8\") as f:\n",
    "    json.dump(default_data, f, ensure_ascii=False, indent=2)\n",
    "\n",
    "# 加载配置\n",
    "config = MyConfig.load(fs, file_name)\n",
    "print(config)"
   ]
  },
  {
   "cell_type": "markdown",
   "id": "f118f67b",
   "metadata": {},
   "source": [
    "## 4. 保存配置文件示例\n",
    "\n",
    "演示如何调用 `AivkConfig` 实例的 `save()` 方法将配置保存到JSON文件。"
   ]
  },
  {
   "cell_type": "code",
   "execution_count": null,
   "id": "3c1fa772",
   "metadata": {},
   "outputs": [],
   "source": [
    "# 修改配置并保存\n",
    "config.username = \"bob\"\n",
    "config.age = 25\n",
    "config.save()\n",
    "\n",
    "# 检查文件内容\n",
    "with (test_etc / file_name).open(\"r\", encoding=\"utf-8\") as f:\n",
    "    print(f.read())"
   ]
  },
  {
   "cell_type": "markdown",
   "id": "144e2790",
   "metadata": {},
   "source": [
    "## 5. 注册热重载回调示例\n",
    "\n",
    "演示如何使用 `onReload` 装饰器注册配置变更时的回调函数。"
   ]
  },
  {
   "cell_type": "code",
   "execution_count": null,
   "id": "f9c42a0f",
   "metadata": {},
   "outputs": [],
   "source": [
    "# 注册热重载回调\n",
    "@config.onReload\n",
    "def on_config_reload(cfg: MyConfig):\n",
    "    print(f\"配置已热重载: {cfg}\")"
   ]
  },
  {
   "cell_type": "markdown",
   "id": "06cab579",
   "metadata": {},
   "source": [
    "## 6. 监听配置文件变更示例\n",
    "\n",
    "演示如何调用 `watch()` 方法监听配置文件变更并自动触发回调。"
   ]
  },
  {
   "cell_type": "code",
   "execution_count": null,
   "id": "aaef84a3",
   "metadata": {},
   "outputs": [],
   "source": [
    "# 启动监听\n",
    "observer = config.watch()\n",
    "\n",
    "# 修改配置文件以触发回调（模拟外部编辑）\n",
    "with (test_etc / file_name).open(\"w\", encoding=\"utf-8\") as f:\n",
    "    json.dump({\"username\": \"eve\", \"age\": 30}, f, ensure_ascii=False, indent=2)\n",
    "\n",
    "import time\n",
    "time.sleep(1)  # 等待watchdog检测到变更\n",
    "\n",
    "# 停止监听\n",
    "config.stop_watch()\n",
    "print(\"监听已停止\")"
   ]
  },
  {
   "cell_type": "markdown",
   "id": "5c57ecc0",
   "metadata": {},
   "source": [
    "## 7. 使用同步上下文管理器示例\n",
    "\n",
    "演示如何通过 `with` 语句使用AivkConfig，实现自动保存和资源清理。"
   ]
  },
  {
   "cell_type": "code",
   "execution_count": null,
   "id": "28ef7ea4",
   "metadata": {},
   "outputs": [],
   "source": [
    "# 方法一：\n",
    "# 使用同步上下文管理器\n",
    "with MyConfig.load(fs, file_name) as cfg:\n",
    "    cfg.username = \"charlie\"\n",
    "    cfg.age = 40\n",
    "    print(f\"上下文中: {cfg}\")\n",
    "# 退出with后自动保存\n",
    "\n",
    "cfg_instance = MyConfig.load(fs, file_name)\n",
    "\n",
    "# 方法二：\n",
    "# 实例直接用\n",
    "with cfg_instance as cfg:\n",
    "    cfg.username = \"dave\"\n",
    "    cfg.age = 35\n",
    "    print(f\"直接实例中: {cfg}\")"
   ]
  },
  {
   "cell_type": "markdown",
   "id": "6597736c",
   "metadata": {},
   "source": [
    "## 8. 使用异步上下文管理器示例\n",
    "\n",
    "演示如何通过 `async with` 语句使用AivkConfig，实现异步自动保存和资源清理。"
   ]
  },
  {
   "cell_type": "code",
   "execution_count": null,
   "id": "eeb7b0e8",
   "metadata": {},
   "outputs": [],
   "source": [
    "# 使用异步上下文管理器\n",
    "# 特别注意！！！.open()！！！！！！！！！！！！！！！ .open().open().open().open().open()\n",
    "\n",
    "async with MyConfig.load(fs, file_name).open() as cfg:\n",
    "    cfg.username = \"dave\"\n",
    "    cfg.age = 50\n",
    "    print(f\"异步上下文中: {cfg}\")\n",
    "# 运行异步示例\n",
    "\n",
    "# 方法二：\n",
    "# 实例直接用\n",
    "\n",
    "async with cfg_instance.open() as cfg:\n",
    "    cfg.username = \"eve\"\n",
    "    cfg.age = 55\n",
    "    print(f\"直接实例异步中: {cfg}\")"
   ]
  },
  {
   "cell_type": "markdown",
   "id": "0f28d257",
   "metadata": {},
   "source": [
    "# 8. 完整示例代码"
   ]
  },
  {
   "cell_type": "code",
   "execution_count": null,
   "id": "e6088822",
   "metadata": {},
   "outputs": [],
   "source": [
    "import random\n",
    "from aivk.api import AivkFS , AivkConfig\n",
    "\n",
    "fs = AivkFS.getFS(\"aivk\")  # 获取AivkFS实例\n",
    "\n",
    "class MyConfig(AivkConfig):\n",
    "    username: str = \"TEST\"\n",
    "    age: int = 999\n",
    "\n",
    "\n",
    "# 不必操心文件路径 fs规定了路径再 fs.etc / file_name.json\n",
    "with MyConfig.load(fs, \"my_config\") as cfg:\n",
    "    print(f\"使用AivkFS加载配置: {cfg}\")\n",
    "    # 修改配置\n",
    "    cfg.username = \"ssss\"+\"\".join(random.choices(\"abcdefghijklmnopqrstuvwxyz\", k=5))\n",
    "    cfg.age = 60\n",
    "    # 配置文件路径：\n",
    "    print(f\"配置文件路径: {cfg._config_path}\") # 供debug看看 是fs.etc / filename.json #type: ignore\n",
    "\n",
    "print(f\"自动保存，修改后的配置: {cfg}\")\n",
    "\n",
    "\n",
    "# 监听文件修改：\n",
    "observer = cfg.watch()\n",
    "# 注册热重载回调\n",
    "@cfg.onReload\n",
    "def onReload(cfg: MyConfig):\n",
    "    print(f\"热重载回调触发: {cfg}\")\n",
    "    \n",
    "    cfg.reload() # 这样即可重新加载配置\n",
    "\n",
    "# 加了缓冲机制，避免出错\n",
    "# 注意 配置文件也需要使用正确的类型\n"
   ]
  },
  {
   "cell_type": "markdown",
   "id": "4e327478",
   "metadata": {},
   "source": []
  }
 ],
 "metadata": {
  "kernelspec": {
   "display_name": "aivk",
   "language": "python",
   "name": "python3"
  },
  "language_info": {
   "codemirror_mode": {
    "name": "ipython",
    "version": 3
   },
   "file_extension": ".py",
   "mimetype": "text/x-python",
   "name": "python",
   "nbconvert_exporter": "python",
   "pygments_lexer": "ipython3",
   "version": "3.13.3"
  }
 },
 "nbformat": 4,
 "nbformat_minor": 5
}
